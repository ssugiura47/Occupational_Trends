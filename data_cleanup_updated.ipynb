{
  "nbformat": 4,
  "nbformat_minor": 0,
  "metadata": {
    "colab": {
      "name": "Copy of data_cleanup.ipynb",
      "provenance": [],
      "collapsed_sections": [],
      "include_colab_link": true
    },
    "kernelspec": {
      "display_name": "Python 3",
      "language": "python",
      "name": "python3"
    },
    "language_info": {
      "codemirror_mode": {
        "name": "ipython",
        "version": 3
      },
      "file_extension": ".py",
      "mimetype": "text/x-python",
      "name": "python",
      "nbconvert_exporter": "python",
      "pygments_lexer": "ipython3",
      "version": "3.8.3"
    },
    "latex_envs": {
      "LaTeX_envs_menu_present": true,
      "autoclose": false,
      "autocomplete": true,
      "bibliofile": "biblio.bib",
      "cite_by": "apalike",
      "current_citInitial": 1,
      "eqLabelWithNumbers": true,
      "eqNumInitial": 1,
      "hotkeys": {
        "equation": "Ctrl-E",
        "itemize": "Ctrl-I"
      },
      "labels_anchors": false,
      "latex_user_defs": false,
      "report_style_numbering": false,
      "user_envs_cfg": false
    }
  },
  "cells": [
    {
      "cell_type": "markdown",
      "metadata": {
        "id": "view-in-github",
        "colab_type": "text"
      },
      "source": [
        "<a href=\"https://colab.research.google.com/github/usrini1215/occupational-trends-project/blob/master/data_cleanup_updated.ipynb\" target=\"_parent\"><img src=\"https://colab.research.google.com/assets/colab-badge.svg\" alt=\"Open In Colab\"/></a>"
      ]
    },
    {
      "cell_type": "code",
      "metadata": {
        "colab": {
          "base_uri": "https://localhost:8080/"
        },
        "id": "5WosHdRWdmpw",
        "outputId": "9087e942-928b-47cf-a9a8-13c1a1f24bd1"
      },
      "source": [
        "import os\n",
        "# Find the latest version of spark 2.0  from http://www-us.apache.org/dist/spark/ and enter as the spark version\n",
        "# For example:\n",
        "# spark_version = 'spark-2.4.6'\n",
        "spark_version = 'spark-2.4.7'\n",
        "os.environ['SPARK_VERSION']=spark_version\n",
        "\n",
        "# Install Spark and Java\n",
        "!apt-get update\n",
        "!apt-get install openjdk-8-jdk-headless -qq > /dev/null\n",
        "!wget -q http://www-us.apache.org/dist/spark/$SPARK_VERSION/$SPARK_VERSION-bin-hadoop2.7.tgz\n",
        "!tar xf $SPARK_VERSION-bin-hadoop2.7.tgz\n",
        "!pip install -q findspark\n",
        "\n",
        "# Set Environment Variables\n",
        "os.environ[\"JAVA_HOME\"] = \"/usr/lib/jvm/java-8-openjdk-amd64\"\n",
        "os.environ[\"SPARK_HOME\"] = f\"/content/{spark_version}-bin-hadoop2.7\"\n",
        "\n",
        "# Start a SparkSession\n",
        "import findspark\n",
        "findspark.init()"
      ],
      "execution_count": 18,
      "outputs": [
        {
          "output_type": "stream",
          "text": [
            "\r0% [Working]\r            \rGet:1 http://security.ubuntu.com/ubuntu bionic-security InRelease [88.7 kB]\n",
            "\r0% [Connecting to archive.ubuntu.com] [1 InRelease 2,586 B/88.7 kB 3%] [Connect\r0% [Connecting to archive.ubuntu.com (91.189.88.142)] [Waiting for headers] [Co\r                                                                               \rIgn:2 https://developer.download.nvidia.com/compute/cuda/repos/ubuntu1804/x86_64  InRelease\n",
            "\r0% [Connecting to archive.ubuntu.com (91.189.88.142)] [Waiting for headers] [Wa\r0% [1 InRelease gpgv 88.7 kB] [Connecting to archive.ubuntu.com (91.189.88.142)\r                                                                               \rHit:3 https://cloud.r-project.org/bin/linux/ubuntu bionic-cran40/ InRelease\n",
            "\r0% [1 InRelease gpgv 88.7 kB] [Connecting to archive.ubuntu.com (91.189.88.142)\r                                                                               \rIgn:4 https://developer.download.nvidia.com/compute/machine-learning/repos/ubuntu1804/x86_64  InRelease\n",
            "Hit:5 https://developer.download.nvidia.com/compute/cuda/repos/ubuntu1804/x86_64  Release\n",
            "Hit:6 https://developer.download.nvidia.com/compute/machine-learning/repos/ubuntu1804/x86_64  Release\n",
            "Hit:7 http://ppa.launchpad.net/c2d4u.team/c2d4u4.0+/ubuntu bionic InRelease\n",
            "Hit:8 http://archive.ubuntu.com/ubuntu bionic InRelease\n",
            "Get:9 http://archive.ubuntu.com/ubuntu bionic-updates InRelease [88.7 kB]\n",
            "Hit:10 http://ppa.launchpad.net/graphics-drivers/ppa/ubuntu bionic InRelease\n",
            "Get:11 http://archive.ubuntu.com/ubuntu bionic-backports InRelease [74.6 kB]\n",
            "Fetched 252 kB in 2s (134 kB/s)\n",
            "Reading package lists... Done\n"
          ],
          "name": "stdout"
        }
      ]
    },
    {
      "cell_type": "code",
      "metadata": {
        "colab": {
          "base_uri": "https://localhost:8080/"
        },
        "id": "xISV-9eR6Yah",
        "outputId": "d911c584-5b39-4e9f-ffd4-3de3410a49a9"
      },
      "source": [
        "!wget https://jdbc.postgresql.org/download/postgresql-42.2.9.jar"
      ],
      "execution_count": 19,
      "outputs": [
        {
          "output_type": "stream",
          "text": [
            "--2020-12-18 05:07:24--  https://jdbc.postgresql.org/download/postgresql-42.2.9.jar\n",
            "Resolving jdbc.postgresql.org (jdbc.postgresql.org)... 72.32.157.228, 2001:4800:3e1:1::228\n",
            "Connecting to jdbc.postgresql.org (jdbc.postgresql.org)|72.32.157.228|:443... connected.\n",
            "HTTP request sent, awaiting response... 200 OK\n",
            "Length: 914037 (893K) [application/java-archive]\n",
            "Saving to: ‘postgresql-42.2.9.jar.1’\n",
            "\n",
            "postgresql-42.2.9.j 100%[===================>] 892.61K  5.06MB/s    in 0.2s    \n",
            "\n",
            "2020-12-18 05:07:24 (5.06 MB/s) - ‘postgresql-42.2.9.jar.1’ saved [914037/914037]\n",
            "\n"
          ],
          "name": "stdout"
        }
      ]
    },
    {
      "cell_type": "code",
      "metadata": {
        "id": "aEQFTWiV6g2h"
      },
      "source": [
        "from pyspark.sql import SparkSession\n",
        "spark = SparkSession.builder.appName(\"CloudETL\").config(\"spark.driver.extraClassPath\",\"/content/postgresql-42.2.9.jar\").getOrCreate()"
      ],
      "execution_count": 20,
      "outputs": []
    },
    {
      "cell_type": "code",
      "metadata": {
        "colab": {
          "base_uri": "https://localhost:8080/"
        },
        "id": "qik6uGSV9BWa",
        "outputId": "7626bfa7-f90b-4fbc-e73d-1d0d71523c78"
      },
      "source": [
        "# Read in data from S3 Buckets\n",
        "from pyspark import SparkFiles\n",
        "url=\"https://data.edd.ca.gov/resource/bcij-5wym.csv\"\n",
        "spark.sparkContext.addFile(url)\n",
        "unemployment_rate_by_age = spark.read.csv(SparkFiles.get(\"bcij-5wym.csv\"), sep=\",\", header=True, inferSchema=True)\n",
        "unemployment_rate_by_age = unemployment_rate_by_age[[\"area_name\",\"year\",\"age_16_19\",\"age_20_24\",\"age_25_34\",\"age_35_44\",\"age_45_54\",\"age_55_64\",\"age_65\"]]\n",
        "# Show DataFrame\n",
        "unemployment_rate_by_age.show()"
      ],
      "execution_count": 21,
      "outputs": [
        {
          "output_type": "stream",
          "text": [
            "+----------+----+---------+---------+---------+---------+---------+---------+------+\n",
            "| area_name|year|age_16_19|age_20_24|age_25_34|age_35_44|age_45_54|age_55_64|age_65|\n",
            "+----------+----+---------+---------+---------+---------+---------+---------+------+\n",
            "|California|2020|    0.225|    0.152|    0.099|    0.076|    0.076|     0.08| 0.091|\n",
            "|California|2020|    0.221|    0.146|    0.095|    0.071|    0.072|    0.075| 0.088|\n",
            "|California|2020|    0.215|    0.138|    0.087|    0.066|    0.068|    0.069| 0.081|\n",
            "|California|2020|    0.211|    0.129|    0.079|    0.059|    0.063|    0.063| 0.073|\n",
            "|California|2020|      0.2|    0.118|    0.071|    0.052|    0.057|    0.058| 0.066|\n",
            "|California|2020|    0.186|    0.105|    0.062|    0.045|     0.05|     0.05| 0.058|\n",
            "|California|2020|    0.167|    0.091|    0.051|    0.038|    0.041|    0.043| 0.046|\n",
            "|California|2020|    0.151|    0.076|    0.041|    0.029|    0.031|    0.034| 0.036|\n",
            "|California|2020|    0.148|    0.073|    0.041|    0.029|    0.031|    0.033| 0.036|\n",
            "|California|2020|    0.143|    0.072|    0.041|    0.028|    0.032|    0.032| 0.038|\n",
            "|California|2019|    0.145|    0.074|    0.041|    0.028|    0.033|    0.033| 0.038|\n",
            "|California|2019|    0.145|    0.074|    0.041|    0.028|    0.033|    0.033| 0.037|\n",
            "|California|2019|    0.147|    0.074|    0.041|    0.028|    0.033|    0.033| 0.036|\n",
            "|California|2019|    0.146|    0.074|     0.04|    0.028|    0.034|    0.033| 0.035|\n",
            "|California|2019|    0.152|    0.075|     0.04|    0.029|    0.035|    0.033| 0.034|\n",
            "|California|2019|    0.152|    0.074|    0.041|    0.029|    0.035|    0.033| 0.032|\n",
            "|California|2019|    0.152|    0.075|    0.041|    0.029|    0.035|    0.033| 0.032|\n",
            "|California|2019|    0.153|    0.076|    0.042|     0.03|    0.035|    0.032| 0.032|\n",
            "|California|2019|    0.155|    0.075|    0.044|    0.031|    0.035|    0.032| 0.031|\n",
            "|California|2019|     0.15|    0.076|    0.045|    0.031|    0.035|    0.032| 0.029|\n",
            "+----------+----+---------+---------+---------+---------+---------+---------+------+\n",
            "only showing top 20 rows\n",
            "\n"
          ],
          "name": "stdout"
        }
      ]
    },
    {
      "cell_type": "code",
      "metadata": {
        "colab": {
          "base_uri": "https://localhost:8080/"
        },
        "id": "RzqGVnoNd-d8",
        "outputId": "abd9ce4c-342d-48b9-dc6e-d89a7175f25a"
      },
      "source": [
        "url=\"https://occupation-trends-bucket.s3-us-west-1.amazonaws.com/Local_Area_Unemployment_Statistics__LAUS_.csv\"\n",
        "spark.sparkContext.addFile(url)\n",
        "local_area_unemployment_stats = spark.read.csv(SparkFiles.get(\"Local_Area_Unemployment_Statistics__LAUS_.csv\"), sep=\",\", header=True, inferSchema=True)\n",
        "local_area_unemployment_stats = local_area_unemployment_stats[[\"Area Name \",\"Year \",\"Month\",\"Employment \",\"Unemployment \",\"Unemployment Rate \"]]\n",
        "\n",
        "local_area_unemployment_stats = local_area_unemployment_stats.withColumnRenamed(\"Area Name \", \"area_name\") \\\n",
        "        .withColumnRenamed(\"Year \", \"year\") \\\n",
        "        .withColumnRenamed(\"Month\", \"month\") \\\n",
        "        .withColumnRenamed(\"Employment \", \"employment\") \\\n",
        "        .withColumnRenamed(\"Unemployment \", \"unemployment\") \\\n",
        "        .withColumnRenamed(\"Unemployment Rate \", \"unemployment_rate\")\n",
        "\n",
        "# Show DataFrame\n",
        "local_area_unemployment_stats.show()"
      ],
      "execution_count": 22,
      "outputs": [
        {
          "output_type": "stream",
          "text": [
            "+--------------+----+-------+----------+------------+-----------------+\n",
            "|     area_name|year|  month|employment|unemployment|unemployment_rate|\n",
            "+--------------+----+-------+----------+------------+-----------------+\n",
            "|    California|1976|January|   8836000|      898600|            0.092|\n",
            "|    California|1977|January|   9201400|      931100|            0.092|\n",
            "|    California|1978|January|   9868400|      806700|            0.076|\n",
            "|    California|1979|January|  10404200|      726700|            0.065|\n",
            "|    California|1980|January|  10774000|      705800|            0.061|\n",
            "|    California|1981|January|  10899600|      830100|            0.071|\n",
            "|    California|1982|January|  10941400|     1051600|            0.088|\n",
            "|    California|1983|January|  10900400|     1341800|             0.11|\n",
            "|    California|1984|January|  11384000|     1026400|            0.083|\n",
            "|    California|1985|January|  11936200|      939500|            0.073|\n",
            "|    California|1986|January|  12241900|      894400|            0.068|\n",
            "|    California|1987|January|  12694700|      865700|            0.064|\n",
            "|    California|1988|January|  13205200|      752000|            0.054|\n",
            "|    California|1989|January|  13646800|      725500|             0.05|\n",
            "|    California|1990|January|  14099700|      854200|            0.057|\n",
            "|    California|1990|January|  14230600|      776100|            0.052|\n",
            "|Alameda County|1990|January|    650600|       26000|            0.038|\n",
            "| Alpine County|1990|January|       580|          20|            0.025|\n",
            "| Amador County|1990|January|     10350|         760|            0.068|\n",
            "|  Butte County|1990|January|     69400|        7400|            0.096|\n",
            "+--------------+----+-------+----------+------------+-----------------+\n",
            "only showing top 20 rows\n",
            "\n"
          ],
          "name": "stdout"
        }
      ]
    },
    {
      "cell_type": "code",
      "metadata": {
        "colab": {
          "base_uri": "https://localhost:8080/"
        },
        "id": "7lsn0ANTZ8qC",
        "outputId": "6bb726a5-fa91-4824-ad4d-035862ccbe17"
      },
      "source": [
        "# Load in a sql function to use columns\r\n",
        "from pyspark.sql.functions import col\r\n",
        "\r\n",
        "url=\"https://occupation-trends-bucket.s3-us-west-1.amazonaws.com/Occupational_Employment_Statistics__OES_.csv\"\r\n",
        "spark.sparkContext.addFile(url)\r\n",
        "occupational_employment_stat = spark.read.csv(SparkFiles.get(\"Occupational_Employment_Statistics__OES_.csv\"), sep=\",\", header=True, inferSchema=True)\r\n",
        "occupational_employment_stat = occupational_employment_stat[[\"Area Type\",\"Year\",\"Wage Type\",\"Occupational Title\",\"Mean Wage\"]]\r\n",
        "occupational_employment_stat = occupational_employment_stat.filter(col(\"Wage Type\") == \"Hourly wage\")\r\n",
        "\r\n",
        "occupational_employment_stat = occupational_employment_stat.withColumnRenamed(\"Area Name\", \"area_name\") \\\r\n",
        "        .withColumnRenamed(\"Year\", \"year\") \\\r\n",
        "        .withColumnRenamed(\"Wage Type\", \"wage_type\") \\\r\n",
        "        .withColumnRenamed(\"Occupational Title\", \"occupational_title\") \\\r\n",
        "        .withColumnRenamed(\"Mean Wage\", \"mean_wage\")\r\n",
        "\r\n",
        "# Show DataFrame\r\n",
        "occupational_employment_stat.show()"
      ],
      "execution_count": 23,
      "outputs": [
        {
          "output_type": "stream",
          "text": [
            "+-----------------+----+-----------+--------------------+---------+\n",
            "|        Area Type|year|  wage_type|  occupational_title|mean_wage|\n",
            "+-----------------+----+-----------+--------------------+---------+\n",
            "|Metropolitan Area|2009|Hourly wage|Total, All Occupa...|    23.25|\n",
            "|Metropolitan Area|2009|Hourly wage|Management Occupa...|    56.62|\n",
            "|Metropolitan Area|2009|Hourly wage|    Chief Executives|      0.0|\n",
            "|Metropolitan Area|2009|Hourly wage|General and Opera...|    63.75|\n",
            "|Metropolitan Area|2009|Hourly wage|Advertising and P...|    45.99|\n",
            "|Metropolitan Area|2009|Hourly wage|  Marketing Managers|    63.26|\n",
            "|Metropolitan Area|2009|Hourly wage|      Sales Managers|     61.2|\n",
            "|Metropolitan Area|2009|Hourly wage|Public Relations ...|     48.7|\n",
            "|Metropolitan Area|2009|Hourly wage|Administrative Se...|    43.26|\n",
            "|Metropolitan Area|2009|Hourly wage|Computer and Info...|    63.49|\n",
            "|Metropolitan Area|2009|Hourly wage|  Financial Managers|    59.15|\n",
            "|Metropolitan Area|2009|Hourly wage|Compensation and ...|    47.77|\n",
            "|Metropolitan Area|2009|Hourly wage|Training and Deve...|    47.47|\n",
            "|Metropolitan Area|2009|Hourly wage|Human Resources M...|    58.17|\n",
            "|Metropolitan Area|2009|Hourly wage|Industrial Produc...|    45.34|\n",
            "|Metropolitan Area|2009|Hourly wage| Purchasing Managers|     47.1|\n",
            "|Metropolitan Area|2009|Hourly wage|Transportation, S...|    44.21|\n",
            "|Metropolitan Area|2009|Hourly wage|Farm, Ranch, and ...|    30.68|\n",
            "|Metropolitan Area|2009|Hourly wage|Construction Mana...|    51.31|\n",
            "|Metropolitan Area|2009|Hourly wage|Education Adminis...|    21.77|\n",
            "+-----------------+----+-----------+--------------------+---------+\n",
            "only showing top 20 rows\n",
            "\n"
          ],
          "name": "stdout"
        }
      ]
    },
    {
      "cell_type": "code",
      "metadata": {
        "colab": {
          "base_uri": "https://localhost:8080/"
        },
        "id": "y7ltnO-raLbl",
        "outputId": "ed945a97-3c62-4032-9982-a09a4e3baed2"
      },
      "source": [
        "url=\"https://occupation-trends-bucket.s3-us-west-1.amazonaws.com/Current_Employment_Statistics__CES_.csv\"\r\n",
        "spark.sparkContext.addFile(url)\r\n",
        "current_employment_stats = spark.read.csv(SparkFiles.get(\"Current_Employment_Statistics__CES_.csv\"), sep=\",\", header=True, inferSchema=True)\r\n",
        "current_employment_stats = current_employment_stats[[\"Area Name\",\"Year\",\"Industry Title\",\"Current Employment\"]]\r\n",
        "current_employment_stats = current_employment_stats[current_employment_stats[\"Area Name\"].contains('County')]\r\n",
        "\r\n",
        "current_employment_stats = current_employment_stats.withColumnRenamed(\"Area Name\", \"area_name\") \\\r\n",
        "        .withColumnRenamed(\"Year\", \"year\") \\\r\n",
        "        .withColumnRenamed(\"Industry Title\", \"industry_title\") \\\r\n",
        "        .withColumnRenamed(\"Current Employment\", \"current_employment\") \r\n",
        "\r\n",
        "\r\n",
        "# Show DataFrame\r\n",
        "current_employment_stats.show()"
      ],
      "execution_count": 24,
      "outputs": [
        {
          "output_type": "stream",
          "text": [
            "+--------------+----+--------------------+------------------+\n",
            "|     area_name|year|      industry_title|current_employment|\n",
            "+--------------+----+--------------------+------------------+\n",
            "|Alameda County|2014|Leisure and Hospi...|             61800|\n",
            "|Alameda County|2014|Health Care and S...|             95300|\n",
            "|Alameda County|2014|Educational and H...|            110700|\n",
            "|Alameda County|2014|        Retail Trade|             68500|\n",
            "|Alameda County|2014|Administrative an...|             35200|\n",
            "|Alameda County|2014|         Information|             13900|\n",
            "|Alameda County|2014|     Goods Producing|            100000|\n",
            "|Alameda County|2014|Arts, Entertainme...|              8800|\n",
            "|Alameda County|2014|    Nondurable Goods|             21100|\n",
            "|Alameda County|2014|      Other Services|             24400|\n",
            "|Alameda County|2014|          Total Farm|               500|\n",
            "|Alameda County|2014|Natural Resources...|             34700|\n",
            "|Alameda County|2014|Financial Activities|             28300|\n",
            "|Alameda County|2014|  Federal Government|              9300|\n",
            "|Alameda County|2014|    Local Government|             69000|\n",
            "|Alameda County|2014|   Service Providing|            600700|\n",
            "|Alameda County|2014|Total Wage and Sa...|            701200|\n",
            "|Alameda County|2014|Real Estate and R...|              9500|\n",
            "|Alameda County|2014|Professional and ...|            117200|\n",
            "|Alameda County|2014|Educational Services|             15400|\n",
            "+--------------+----+--------------------+------------------+\n",
            "only showing top 20 rows\n",
            "\n"
          ],
          "name": "stdout"
        }
      ]
    },
    {
      "cell_type": "markdown",
      "metadata": {
        "id": "kQgPpNnVnRwh"
      },
      "source": [
        "Postgres Setup"
      ]
    },
    {
      "cell_type": "code",
      "metadata": {
        "id": "985Vl1dtmpVU"
      },
      "source": [
        "# Configure settings for RDS\n",
        "mode = \"append\"\n",
        "jdbc_url=\"jdbc:postgresql://occupation-trends.cppwghmqrqzq.us-west-1.rds.amazonaws.com:5432/occupation-trends-db\"\n",
        "config = {\"user\":\"root\", \n",
        "          \"password\": \"data1234\", \n",
        "          \"driver\":\"org.postgresql.Driver\"}\n"
      ],
      "execution_count": 25,
      "outputs": []
    },
    {
      "cell_type": "code",
      "metadata": {
        "id": "9yyZgvcUnaNN"
      },
      "source": [
        "# Write DataFrame to active_user table in RDS\n",
        "\n",
        "unemployment_rate_by_age.write.jdbc(url=jdbc_url, table='unemployment_rate_by_age', mode=mode, properties=config)"
      ],
      "execution_count": 26,
      "outputs": []
    },
    {
      "cell_type": "code",
      "metadata": {
        "id": "8rsTf2kmna3V"
      },
      "source": [
        "# Write dataframe to billing_info table in RDS\n",
        "\n",
        "local_area_unemployment_stats.write.jdbc(url=jdbc_url, table='local_area_unemployment_stats', mode=mode, properties=config)"
      ],
      "execution_count": 29,
      "outputs": []
    },
    {
      "cell_type": "code",
      "metadata": {
        "id": "Kx3hMnlAD5FA"
      },
      "source": [
        "# Write dataframe to payment_info table in RDS\r\n",
        "\r\n",
        "occupational_employment_stat.write.jdbc(url=jdbc_url, table='occupational_employment_stat', mode=mode, properties=config)"
      ],
      "execution_count": 30,
      "outputs": []
    },
    {
      "cell_type": "code",
      "metadata": {
        "id": "KZ8X2cRH48bM"
      },
      "source": [
        "# Write dataframe to payment_info table in RDS\r\n",
        "\r\n",
        "current_employment_stats.write.jdbc(url=jdbc_url, table='current_employment_stats', mode=mode, properties=config)"
      ],
      "execution_count": 14,
      "outputs": []
    }
  ]
}